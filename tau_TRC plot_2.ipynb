{
 "cells": [
  {
   "cell_type": "code",
   "execution_count": 13,
   "id": "eda5b95f",
   "metadata": {},
   "outputs": [],
   "source": [
    "from mip import *\n",
    "import numpy as np\n",
    "import pandas as pd\n",
    "from itertools import product\n",
    "import matplotlib.pyplot as plt\n",
    "import seaborn as sns\n",
    "from math import *"
   ]
  },
  {
   "cell_type": "markdown",
   "id": "976bcfe9",
   "metadata": {},
   "source": [
    "# Model_S_diff r"
   ]
  },
  {
   "cell_type": "markdown",
   "id": "846303d9",
   "metadata": {},
   "source": [
    "# Parameter"
   ]
  },
  {
   "cell_type": "code",
   "execution_count": 14,
   "id": "dc6a700e",
   "metadata": {},
   "outputs": [],
   "source": [
    "N = 3\n",
    "T = 10\n",
    "set_N = set(range(N))\n",
    "set_T = set(range(T))\n",
    "d_s = [5000/(1+50*np.exp(-0.1*(t+1))) for t in set_T]\n",
    "d_m = [279/(1+2.2*np.exp(-0.33*(t+1))) for t in set_T]\n",
    "d_f = [258/(1+3.4*np.exp(-0.9*(t+1))) for t in set_T]\n",
    "h = [2,2,2]\n",
    "mu = [5,5,5]\n",
    "r = 0\n",
    "s = [50,50,50]\n",
    "Pmax = [10,10,10]\n",
    "delta = [5,5,5]\n",
    "alpha = 2\n",
    "M = 1000000\n",
    "tau = []\n",
    "for i in range(0,150):\n",
    "    tau.append(i*0.01)\n",
    "tau.remove(0.0)\n",
    "g_list = []\n",
    "for j in range(len(tau)):\n",
    "    g = [[Pmax[i] - delta[i]*np.exp(-(t+1)/tau[j]) for t in set_T] for i in set_N]\n",
    "    g_list.append(g)"
   ]
  },
  {
   "cell_type": "code",
   "execution_count": 15,
   "id": "1dd7e089",
   "metadata": {},
   "outputs": [
    {
     "data": {
      "text/plain": [
       "(149, 3, 10)"
      ]
     },
     "execution_count": 15,
     "metadata": {},
     "output_type": "execute_result"
    }
   ],
   "source": [
    "np.array(g_list).shape"
   ]
  },
  {
   "cell_type": "code",
   "execution_count": 16,
   "id": "610a731b",
   "metadata": {},
   "outputs": [],
   "source": [
    "d = d_s"
   ]
  },
  {
   "cell_type": "code",
   "execution_count": 17,
   "id": "19aa74b6",
   "metadata": {},
   "outputs": [],
   "source": [
    "m_s = Model()\n",
    "l = [[m_s.add_var(name='l({},{})'.format(i,t)) for t in set_T] for i in set_N]\n",
    "p = [[m_s.add_var(name='p({},{})'.format(i,t)) for t in set_T] for i in set_N]\n",
    "#w = [[[m.add_var(name='w({},{},{})'.format(i,t_p,t)) for t in T if t>=t_p]  for t_p in T] for i in N]\n",
    "w = [[[m_s.add_var(name='w({},{},{})'.format(i,t_p,t)) for t in set_T ]  for t_p in set_T] for i in set_N]\n",
    "z = [[[m_s.add_var(name='z({},{},{})'.format(i,t_p,t)) for t in set_T ]  for t_p in set_T] for i in set_N]\n",
    "y = [[m_s.add_var(name='y({},{})'.format(i,t), var_type=BINARY) for t in set_T] for i in set_N]\n",
    "y_a = [[m_s.add_var(name='y_a({},{})'.format(i,t), var_type=BINARY) for t in set_T] for i in set_N]\n",
    "y_w = [[m_s.add_var(name='y_w({},{})'.format(i,t),var_type=BINARY) for t in set_T] for i in set_N]\n",
    "\n",
    "m_s.objective = minimize(xsum(s[i]*y[i][t] + h[i]*l[i][t] + mu[i]*xsum(w[i][t_p][t] for t_p in range(t+1)) for i in set_N  for t in set_T)\n",
    "+ r*xsum(z[i][t_p][t+1] for i in set_N for t in (set_T-{9}) for t_p in range(t+1)))\n"
   ]
  },
  {
   "cell_type": "code",
   "execution_count": 18,
   "id": "97bee8b7",
   "metadata": {},
   "outputs": [],
   "source": [
    "obj_list_s=[]\n",
    "m_s = Model()\n",
    "l = [[m_s.add_var(name='l({},{})'.format(i,t)) for t in set_T] for i in set_N]\n",
    "p = [[m_s.add_var(name='p({},{})'.format(i,t)) for t in set_T] for i in set_N]\n",
    "#w = [[[m.add_var(name='w({},{},{})'.format(i,t_p,t)) for t in T if t>=t_p]  for t_p in T] for i in N]\n",
    "w = [[[m_s.add_var(name='w({},{},{})'.format(i,t_p,t)) for t in set_T ]  for t_p in set_T] for i in set_N]\n",
    "z = [[[m_s.add_var(name='z({},{},{})'.format(i,t_p,t)) for t in set_T ]  for t_p in set_T] for i in set_N]\n",
    "y = [[m_s.add_var(name='y({},{})'.format(i,t), var_type=BINARY) for t in set_T] for i in set_N]\n",
    "y_a = [[m_s.add_var(name='y_a({},{})'.format(i,t), var_type=BINARY) for t in set_T] for i in set_N]\n",
    "y_w = [[m_s.add_var(name='y_w({},{})'.format(i,t),var_type=BINARY) for t in set_T] for i in set_N]\n",
    "\n",
    "m_s.objective = minimize(xsum(s[i]*y[i][t] + h[i]*l[i][t] + mu[i]*xsum(w[i][t_p][t] for t_p in range(t+1)) for i in set_N  for t in set_T)\n",
    "+ r*xsum(z[i][t_p][t+1] for i in set_N for t in (set_T-{9}) for t_p in range(t+1)))\n",
    "\n",
    "for j in range(len(g_list)):\n",
    "    l = [[m_s.add_var(name='l({},{})'.format(i,t)) for t in set_T] for i in set_N]\n",
    "    p = [[m_s.add_var(name='p({},{})'.format(i,t)) for t in set_T] for i in set_N]\n",
    "    #w = [[[m.add_var(name='w({},{},{})'.format(i,t_p,t)) for t in T if t>=t_p]  for t_p in T] for i in N]\n",
    "    w = [[[m_s.add_var(name='w({},{},{})'.format(i,t_p,t)) for t in set_T ]  for t_p in set_T] for i in set_N]\n",
    "    z = [[[m_s.add_var(name='z({},{},{})'.format(i,t_p,t)) for t in set_T ]  for t_p in set_T] for i in set_N]\n",
    "    y = [[m_s.add_var(name='y({},{})'.format(i,t), var_type=BINARY) for t in set_T] for i in set_N]\n",
    "    y_a = [[m_s.add_var(name='y_a({},{})'.format(i,t), var_type=BINARY) for t in set_T] for i in set_N]\n",
    "    y_w = [[m_s.add_var(name='y_w({},{})'.format(i,t),var_type=BINARY) for t in set_T] for i in set_N]\n",
    "\n",
    "    m_s.objective = minimize(xsum(s[i]*y[i][t] + h[i]*l[i][t] + mu[i]*xsum(w[i][t_p][t] for t_p in range(t+1)) for i in set_N  for t in set_T)\n",
    "    + r*xsum(z[i][t_p][t+1] for i in set_N for t in (set_T-{9}) for t_p in range(t+1)))\n",
    "    \n",
    "    #2\n",
    "    for t in set_T:\n",
    "            m_s += l[0][t] == xsum(p[0][t_p] - d[t_p] for t_p in range(t+1))\n",
    "\n",
    "    #3\n",
    "    for (i,t) in product(set_N-{0}, set_T):\n",
    "            m_s += l[i][t] == xsum(p[i][t_p] - p[i-1][t_p] for t_p in range(t+1))\n",
    "\n",
    "    #4\n",
    "    for (i,t) in product(set_N,set_T):\n",
    "            m_s += p[i][t] == xsum(w[i][t_p][t]*g_list[j][i][t-t_p] for t_p in range(t+1) )\n",
    "\n",
    "    #5\n",
    "    for (i,t_p,t) in product(set_N,range(t+1),set_T-{9}):\n",
    "        m_s += w[i][t_p][t] - w[i][t_p][t+1] <= y[i][t+1]*M\n",
    "\n",
    "    #6\n",
    "    for (i,t_p,t) in product(set_N,range(t+1),set_T-{9}):\n",
    "        m_s += w[i][t_p][t+1] - w[i][t_p][t] <= y[i][t+1]*M\n",
    "\n",
    "    #7\n",
    "    for (i,t) in product(set_N,set_T):\n",
    "        #if y_a+y_w == 2:\n",
    "            #alpha = 2\n",
    "        #else: \n",
    "            #alpha = 1\n",
    "        m_s += y_a[i][t] + y_w[i][t] <= alpha*y[i][t]\n",
    "\n",
    "    #8\n",
    "    for (i,t_p,t) in product(set_N,range(t+1),set_T-{9}):\n",
    "        m_s += z[i][t_p][t+1] == w[i][t_p][t] - w[i][t_p][t+1]\n",
    "\n",
    "    #9\n",
    "    for (i,t) in product(set_N,set_T):\n",
    "        m_s += w[i][t][t] <= y_a[i][t]*M\n",
    "\n",
    "    #10\n",
    "    for (i,t_p,t) in product(set_N,range(t+1),set_T-{9}):\n",
    "        m_s += z[i][t_p][t] <= y_w[i][t]*M\n",
    "\n",
    "    #11\n",
    "    for (i,t_p,t) in product(set_N,range(t+1),set_T):\n",
    "         m_s += z[i][t_p][t] >= 0\n",
    "\n",
    "\n",
    "    #12\n",
    "    for (i,t) in product (set_N,set_T):\n",
    "        m_s += l[i][t] >= 0\n",
    "\n",
    "    #13\n",
    "    for (i,t_p,t) in product(set_N,range(t+1),set_T):\n",
    "         m_s += w[i][t_p][t] >= 0 \n",
    "        \n",
    "    m_s.optimize()\n",
    "    obj_list_s.append(m_s.objective_value)\n",
    "    m_s = Model()\n",
    "    \n"
   ]
  },
  {
   "cell_type": "code",
   "execution_count": 19,
   "id": "ec3a0bd3",
   "metadata": {},
   "outputs": [],
   "source": [
    "with open('tau-TRC2_r0.txt','w',encoding='UTF-8') as f:\n",
    "    for i in obj_list_s:\n",
    "        f.write(str(i)+'\\n')\n",
    "f.close()"
   ]
  },
  {
   "cell_type": "markdown",
   "id": "46a3f0b0",
   "metadata": {},
   "source": [
    "### 저장된 TRC값 불러오기"
   ]
  },
  {
   "cell_type": "code",
   "execution_count": 25,
   "id": "3b4d952c",
   "metadata": {},
   "outputs": [],
   "source": [
    "obj_list_s = []\n",
    "f = open('tau-TRC2_r0.txt','r')\n",
    "linelist = f.readlines()\n",
    "for line in linelist:\n",
    "    line = float(line.rstrip())\n",
    "    obj_list_s.append(line)\n",
    "f.close()"
   ]
  },
  {
   "cell_type": "code",
   "execution_count": 26,
   "id": "79782dca",
   "metadata": {},
   "outputs": [
    {
     "data": {
      "text/plain": [
       "[3434.0123697953227,\n",
       " 3434.0123697953227,\n",
       " 3434.0123697953254,\n",
       " 3434.012369793657,\n",
       " 3434.012369547845,\n",
       " 3434.012362858061,\n",
       " 3434.0122947675336,\n",
       " 3434.0119223734287,\n",
       " 3434.0092350037385,\n",
       " 3434.0028471606884,\n",
       " 3433.9887359691675,\n",
       " 3433.961979717111,\n",
       " 3433.916711552547,\n",
       " 3433.846741397438,\n",
       " 3433.745906918055,\n",
       " 3433.6085614044105,\n",
       " 3433.42986980479,\n",
       " 3433.2060041720238,\n",
       " 3432.9342367568747,\n",
       " 3432.6129510829364,\n",
       " 3432.241592973202,\n",
       " 3431.8205815191304,\n",
       " 3431.35119652871,\n",
       " 3430.835455173164,\n",
       " 3430.275987050995,\n",
       " 3429.675913933245,\n",
       " 3429.0387381354035,\n",
       " 3428.368241716694,\n",
       " 3427.668397457111,\n",
       " 3426.943291704939,\n",
       " 3426.197058631814,\n",
       " 3425.433825093647,\n",
       " 3424.6576651227756,\n",
       " 3423.872563002705,\n",
       " 3423.082383882534,\n",
       " 3422.290850932511,\n",
       " 3421.5015281180067,\n",
       " 3420.717807750167,\n",
       " 3419.9429020662164,\n",
       " 3419.179838177248,\n",
       " 3418.4314558058622,\n",
       " 3417.700407313286,\n",
       " 3416.98915958523,\n",
       " 3416.2999974071886,\n",
       " 3415.6350280156616,\n",
       " 3414.9961865591977,\n",
       " 3414.3852422447294,\n",
       " 3413.8038049815655,\n",
       " 3413.2533323657262,\n",
       " 3412.735136874439,\n",
       " 3412.2503931635124,\n",
       " 3411.800145379561,\n",
       " 3410.710842545543,\n",
       " 3408.8793060173593,\n",
       " 3407.1008547265315,\n",
       " 3405.377430774411,\n",
       " 3403.7107809418594,\n",
       " 3402.1024670857646,\n",
       " 3400.5538762585,\n",
       " 3399.0662305223523,\n",
       " 3397.6405964388323,\n",
       " 3396.2778942178365,\n",
       " 3394.9789065173172,\n",
       " 3393.744286888139,\n",
       " 3392.574567862147,\n",
       " 3391.4701686844096,\n",
       " 3390.431402693318,\n",
       " 3389.458484353342,\n",
       " 3388.5515359483034,\n",
       " 3387.710593941758,\n",
       " 3386.935615015694,\n",
       " 3386.2264817951564,\n",
       " 3385.5830082711786,\n",
       " 3385.004944931355,\n",
       " 3384.4919836102586,\n",
       " 3384.0437620697185,\n",
       " 3383.659868321135,\n",
       " 3383.339844700355,\n",
       " 3383.0831917063615,\n",
       " 3382.8893716144826,\n",
       " 3382.757811874804,\n",
       " 3382.6879083060703,\n",
       " 3382.679028095081,\n",
       " 3382.7305126114334,\n",
       " 3382.8416800468904,\n",
       " 3383.0118278885766,\n",
       " 3383.240235234618,\n",
       " 3383.5261649607055,\n",
       " 3383.868865745552,\n",
       " 3384.2675739630276,\n",
       " 3384.771740861283,\n",
       " 3385.4669907083603,\n",
       " 3386.3282407641277,\n",
       " 3387.2206515815074,\n",
       " 3388.138081630806,\n",
       " 3389.0802256830075,\n",
       " 3390.0467771970193,\n",
       " 3391.0374286804936,\n",
       " 3392.0518720269633,\n",
       " 3393.089798830508,\n",
       " 3394.1509006793117,\n",
       " 3395.234869429113,\n",
       " 3396.3413974578025,\n",
       " 3397.4701779021184,\n",
       " 3398.620904877483,\n",
       " 3399.7932736819052,\n",
       " 3400.986980984854,\n",
       " 3402.201725001946,\n",
       " 3403.4372056562547,\n",
       " 3404.6931247270154,\n",
       " 3405.969185986417,\n",
       " 3407.2650953252146,\n",
       " 3408.5805608677724,\n",
       " 3409.9152930771684,\n",
       " 3411.269004850956,\n",
       " 3412.6414116080846,\n",
       " 3413.392576797475,\n",
       " 3413.740424244924,\n",
       " 3414.120738212016,\n",
       " 3414.533081370462,\n",
       " 3414.97701844472,\n",
       " 3415.45211641405,\n",
       " 3415.9579446989815,\n",
       " 3416.6967620211076,\n",
       " 3417.6558188245463,\n",
       " 3418.632417661449,\n",
       " 3422.53177294891,\n",
       " 3426.812935991504,\n",
       " 3431.574342853047,\n",
       " 3436.293016468659,\n",
       " 3440.969450512142,\n",
       " 3445.440914580722,\n",
       " 3449.366486351408,\n",
       " 3453.247634797909,\n",
       " 3457.084922557205,\n",
       " 3460.878908002668,\n",
       " 3464.630145097836,\n",
       " 3468.3391832773405,\n",
       " 3472.006567331856,\n",
       " 3475.6328373053593,\n",
       " 3476.500415094686,\n",
       " 3476.801181383162,\n",
       " 3477.118465415942,\n",
       " 3477.452061819575,\n",
       " 3477.8017671531547,\n",
       " 3478.16737992496,\n",
       " 3478.548700606696,\n",
       " 3478.9455316453923,\n",
       " 3479.357677473142]"
      ]
     },
     "execution_count": 26,
     "metadata": {},
     "output_type": "execute_result"
    }
   ],
   "source": [
    "obj_list_s"
   ]
  },
  {
   "cell_type": "markdown",
   "id": "ac58cef5",
   "metadata": {},
   "source": [
    "# r=0.5"
   ]
  },
  {
   "cell_type": "code",
   "execution_count": 20,
   "id": "f66ee89e",
   "metadata": {},
   "outputs": [],
   "source": [
    "r = 0.5"
   ]
  },
  {
   "cell_type": "code",
   "execution_count": 21,
   "id": "6f2c6ab5",
   "metadata": {},
   "outputs": [],
   "source": [
    "obj_list_s_r05=[]\n",
    "\n",
    "m_s = Model()\n",
    "l = [[m_s.add_var(name='l({},{})'.format(i,t)) for t in set_T] for i in set_N]\n",
    "p = [[m_s.add_var(name='p({},{})'.format(i,t)) for t in set_T] for i in set_N]\n",
    "#w = [[[m.add_var(name='w({},{},{})'.format(i,t_p,t)) for t in T if t>=t_p]  for t_p in T] for i in N]\n",
    "w = [[[m_s.add_var(name='w({},{},{})'.format(i,t_p,t)) for t in set_T ]  for t_p in set_T] for i in set_N]\n",
    "z = [[[m_s.add_var(name='z({},{},{})'.format(i,t_p,t)) for t in set_T ]  for t_p in set_T] for i in set_N]\n",
    "y = [[m_s.add_var(name='y({},{})'.format(i,t), var_type=BINARY) for t in set_T] for i in set_N]\n",
    "y_a = [[m_s.add_var(name='y_a({},{})'.format(i,t), var_type=BINARY) for t in set_T] for i in set_N]\n",
    "y_w = [[m_s.add_var(name='y_w({},{})'.format(i,t),var_type=BINARY) for t in set_T] for i in set_N]\n",
    "\n",
    "m_s.objective = minimize(xsum(s[i]*y[i][t] + h[i]*l[i][t] + mu[i]*xsum(w[i][t_p][t] for t_p in range(t+1)) for i in set_N  for t in set_T)\n",
    "+ r*xsum(z[i][t_p][t+1] for i in set_N for t in (set_T-{9}) for t_p in range(t+1)))\n",
    "\n",
    "for j in range(len(g_list)):\n",
    "    l = [[m_s.add_var(name='l({},{})'.format(i,t)) for t in set_T] for i in set_N]\n",
    "    p = [[m_s.add_var(name='p({},{})'.format(i,t)) for t in set_T] for i in set_N]\n",
    "    #w = [[[m.add_var(name='w({},{},{})'.format(i,t_p,t)) for t in T if t>=t_p]  for t_p in T] for i in N]\n",
    "    w = [[[m_s.add_var(name='w({},{},{})'.format(i,t_p,t)) for t in set_T ]  for t_p in set_T] for i in set_N]\n",
    "    z = [[[m_s.add_var(name='z({},{},{})'.format(i,t_p,t)) for t in set_T ]  for t_p in set_T] for i in set_N]\n",
    "    y = [[m_s.add_var(name='y({},{})'.format(i,t), var_type=BINARY) for t in set_T] for i in set_N]\n",
    "    y_a = [[m_s.add_var(name='y_a({},{})'.format(i,t), var_type=BINARY) for t in set_T] for i in set_N]\n",
    "    y_w = [[m_s.add_var(name='y_w({},{})'.format(i,t),var_type=BINARY) for t in set_T] for i in set_N]\n",
    "\n",
    "    m_s.objective = minimize(xsum(s[i]*y[i][t] + h[i]*l[i][t] + mu[i]*xsum(w[i][t_p][t] for t_p in range(t+1)) for i in set_N  for t in set_T)\n",
    "    + r*xsum(z[i][t_p][t+1] for i in set_N for t in (set_T-{9}) for t_p in range(t+1)))\n",
    "    \n",
    "    #2\n",
    "    for t in set_T:\n",
    "            m_s += l[0][t] == xsum(p[0][t_p] - d[t_p] for t_p in range(t+1))\n",
    "\n",
    "    #3\n",
    "    for (i,t) in product(set_N-{0}, set_T):\n",
    "            m_s += l[i][t] == xsum(p[i][t_p] - p[i-1][t_p] for t_p in range(t+1))\n",
    "\n",
    "    #4\n",
    "    for (i,t) in product(set_N,set_T):\n",
    "            m_s += p[i][t] == xsum(w[i][t_p][t]*g_list[j][i][t-t_p] for t_p in range(t+1) )\n",
    "\n",
    "    #5\n",
    "    for (i,t_p,t) in product(set_N,range(t+1),set_T-{9}):\n",
    "        m_s += w[i][t_p][t] - w[i][t_p][t+1] <= y[i][t+1]*M\n",
    "\n",
    "    #6\n",
    "    for (i,t_p,t) in product(set_N,range(t+1),set_T-{9}):\n",
    "        m_s += w[i][t_p][t+1] - w[i][t_p][t] <= y[i][t+1]*M\n",
    "\n",
    "    #7\n",
    "    for (i,t) in product(set_N,set_T):\n",
    "        #if y_a+y_w == 2:\n",
    "            #alpha = 2\n",
    "        #else: \n",
    "            #alpha = 1\n",
    "        m_s += y_a[i][t] + y_w[i][t] <= alpha*y[i][t]\n",
    "\n",
    "    #8\n",
    "    for (i,t_p,t) in product(set_N,range(t+1),set_T-{9}):\n",
    "        m_s += z[i][t_p][t+1] == w[i][t_p][t] - w[i][t_p][t+1]\n",
    "\n",
    "    #9\n",
    "    for (i,t) in product(set_N,set_T):\n",
    "        m_s += w[i][t][t] <= y_a[i][t]*M\n",
    "\n",
    "    #10\n",
    "    for (i,t_p,t) in product(set_N,range(t+1),set_T-{9}):\n",
    "        m_s += z[i][t_p][t] <= y_w[i][t]*M\n",
    "\n",
    "    #11\n",
    "    for (i,t_p,t) in product(set_N,range(t+1),set_T):\n",
    "         m_s += z[i][t_p][t] >= 0\n",
    "\n",
    "\n",
    "    #12\n",
    "    for (i,t) in product (set_N,set_T):\n",
    "        m_s += l[i][t] >= 0\n",
    "\n",
    "    #13\n",
    "    for (i,t_p,t) in product(set_N,range(t+1),set_T):\n",
    "         m_s += w[i][t_p][t] >= 0 \n",
    "        \n",
    "    m_s.optimize()\n",
    "    obj_list_s_r05.append(m_s.objective_value)\n",
    "    m_s = Model()\n",
    "    \n"
   ]
  },
  {
   "cell_type": "code",
   "execution_count": 22,
   "id": "1bdc352c",
   "metadata": {},
   "outputs": [],
   "source": [
    "with open('tau-TRC2_r05.txt','w',encoding='UTF-8') as f2:\n",
    "    for i in obj_list_s_r05:\n",
    "        f2.write(str(i)+'\\n')\n",
    "f2.close()"
   ]
  },
  {
   "cell_type": "code",
   "execution_count": 27,
   "id": "166cada5",
   "metadata": {},
   "outputs": [],
   "source": [
    "obj_list_s_r05 = []\n",
    "f = open('tau-TRC2_r05.txt','r')\n",
    "linelist = f.readlines()\n",
    "for line in linelist:\n",
    "    line = float(line.rstrip())\n",
    "    obj_list_s_r05.append(line)\n",
    "f.close()"
   ]
  },
  {
   "cell_type": "markdown",
   "id": "80ff71cd",
   "metadata": {},
   "source": [
    "with open('tau-TRC_r01.txt','w',encoding='UTF-8') as f3:\n",
    "    for i in obj_list_s_r01:\n",
    "        f3.write(str(i)+'\\n')\n",
    "f3.close()"
   ]
  },
  {
   "cell_type": "markdown",
   "id": "f6308c06",
   "metadata": {},
   "source": [
    "# tau_TRC plot"
   ]
  },
  {
   "cell_type": "code",
   "execution_count": 12,
   "id": "ced97dbb",
   "metadata": {},
   "outputs": [
    {
     "name": "stderr",
     "output_type": "stream",
     "text": [
      "No handles with labels found to put in legend.\n"
     ]
    },
    {
     "data": {
      "text/plain": [
       "<matplotlib.collections.PathCollection at 0x20a1125ff40>"
      ]
     },
     "execution_count": 12,
     "metadata": {},
     "output_type": "execute_result"
    },
    {
     "data": {
      "text/plain": [
       "<Figure size 432x288 with 0 Axes>"
      ]
     },
     "metadata": {},
     "output_type": "display_data"
    },
    {
     "data": {
      "image/png": "[encoded data removed]",
      "text/plain": [
       "<Figure size 1440x720 with 1 Axes>"
      ]
     },
     "metadata": {
      "needs_background": "light"
     },
     "output_type": "display_data"
    }
   ],
   "source": [
    "fig = plt.figure()\n",
    "fig, ax = plt.subplots()\n",
    "ax.set_xlabel('Tau',fontsize=13)\n",
    "plt.xlim(0.01,1.49)\n",
    "plt.ylim(3300,3440)\n",
    "ax.set_ylabel('TRC',fontsize=13)\n",
    "ax.set_title('Total cost with respect to Tau', fontsize=15)\n",
    "ax.legend()\n",
    "ax.grid(axis='y')\n",
    "plt.gcf().set_size_inches(20, 10)\n",
    "plt.scatter(tau, obj_list_s, color='orange')\n",
    "plt.scatter(tau, obj_list_s_r05, color='blue')"
   ]
  },
  {
   "cell_type": "code",
   "execution_count": null,
   "id": "6daf6897",
   "metadata": {},
   "outputs": [],
   "source": []
  }
 ],
 "metadata": {
  "kernelspec": {
   "display_name": "Python 3 (ipykernel)",
   "language": "python",
   "name": "python3"
  },
  "language_info": {
   "codemirror_mode": {
    "name": "ipython",
    "version": 3
   },
   "file_extension": ".py",
   "mimetype": "text/x-python",
   "name": "python",
   "nbconvert_exporter": "python",
   "pygments_lexer": "ipython3",
   "version": "3.9.7"
  }
 },
 "nbformat": 4,
 "nbformat_minor": 5
}
